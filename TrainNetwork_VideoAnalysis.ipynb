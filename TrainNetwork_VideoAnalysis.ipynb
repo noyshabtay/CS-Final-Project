{
 "cells": [
  {
   "cell_type": "markdown",
   "source": [
    "# DeepLabCut Toolbox - Colab\n",
    "https://github.com/AlexEMG/DeepLabCut\n",
    "\n",
    "This notebook illustrates how to use the cloud to:\n",
    "- create a training set\n",
    "- train a network\n",
    "- evaluate a network\n",
    "- create simple quality check plots\n",
    "- analyze novel videos!\n",
    "\n",
    "###This notebook assumes you already have a project folder with labeled data! \n",
    "\n",
    "This notebook demonstrates the necessary steps to use DeepLabCut for your own project.\n",
    "\n",
    "This shows the most simple code to do so, but many of the functions have additional features, so please check out the overview & the protocol paper!\n",
    "\n",
    "Nath\\*, Mathis\\* et al.: Using DeepLabCut for markerless pose estimation during behavior across species. Nature Protocols, 2019.\n",
    "\n",
    "\n",
    "Paper: https://www.nature.com/articles/s41596-019-0176-0\n",
    "\n",
    "Pre-print: https://www.biorxiv.org/content/biorxiv/early/2018/11/24/476531.full.pdf\n"
   ],
   "metadata": {
    "id": "RK255E7YoEIt"
   }
  },
  {
   "cell_type": "markdown",
   "source": [
    "## First, go to \"Runtime\" ->\"change runtime type\"->select \"Python3\", and then select \"GPU\"\n"
   ],
   "metadata": {
    "id": "txoddlM8hLKm"
   }
  },
  {
   "cell_type": "code",
   "execution_count": null,
   "source": [
    "# Use TensorFlow 1.x:\r\n",
    "%tensorflow_version 1.x"
   ],
   "outputs": [],
   "metadata": {
    "id": "Y36K4Eux3h-X"
   }
  },
  {
   "cell_type": "code",
   "execution_count": 1,
   "source": [
    "#Setup your project variables:\n",
    "# PLEASE EDIT THESE:\n",
    "  \n",
    "ProjectFolderName = 'gaze-vector-test-gaze-vector-13-6-2021-06-13'\n",
    "VideoType = 'mp4' \n",
    "working_dir='/home/regev/gaze-vector/workspace/'\n",
    "#don't edit these:\n",
    "videofile_path = [working_dir+ProjectFolderName+'/videos/'] #Enter the list of videos or folder to analyze.\n",
    "videofile_path"
   ],
   "outputs": [
    {
     "output_type": "execute_result",
     "data": {
      "text/plain": [
       "['/home/regev/gaze-vector/workspace/gaze-vector-test-gaze-vector-13-6-2021-06-13/videos/']"
      ]
     },
     "metadata": {},
     "execution_count": 1
    }
   ],
   "metadata": {
    "id": "vhENAlQnFENJ"
   }
  },
  {
   "cell_type": "code",
   "execution_count": null,
   "source": [
    "import os\r\n",
    "#os.environ[\"DLClight\"]=\"True\""
   ],
   "outputs": [],
   "metadata": {
    "id": "sXufoX6INe6w"
   }
  },
  {
   "cell_type": "code",
   "execution_count": null,
   "source": [
    "import deeplabcut"
   ],
   "outputs": [],
   "metadata": {
    "id": "3K9Ndy1beyfG"
   }
  },
  {
   "cell_type": "code",
   "execution_count": null,
   "source": [
    "deeplabcut.__version__"
   ],
   "outputs": [],
   "metadata": {
    "id": "o4orkg9QTHKK"
   }
  },
  {
   "cell_type": "code",
   "execution_count": 3,
   "source": [
    "path_config_file = working_dir+ProjectFolderName+'/config.yaml'\r\n",
    "path_config_file"
   ],
   "outputs": [
    {
     "output_type": "execute_result",
     "data": {
      "text/plain": [
       "'/home/regev/gaze-vector/workspace/gaze-vector-test-gaze-vector-13-6-2021-06-13/config.yaml'"
      ]
     },
     "metadata": {},
     "execution_count": 3
    }
   ],
   "metadata": {
    "id": "Z7ZlDr3wV4D1"
   }
  },
  {
   "cell_type": "markdown",
   "source": [
    "## Create a training dataset:\n",
    "### You must do this step inside of Colab:\n",
    "After running this script the training dataset is created and saved in the project directory under the subdirectory **'training-datasets'**\n",
    "\n",
    "This function also creates new subdirectories under **dlc-models** and appends the project config.yaml file with the correct path to the training and testing pose configuration file. These files hold the parameters for training the network. Such an example file is provided with the toolbox and named as **pose_cfg.yaml**.\n",
    "\n",
    "Now it is the time to start training the network!"
   ],
   "metadata": {
    "id": "xNi9s1dboEJN"
   }
  },
  {
   "cell_type": "code",
   "execution_count": null,
   "source": [
    "# Note: if you are using the demo data (i.e. examples/Reaching-Mackenzie-2018-08-30/), first delete the folder called dlc-models! \r\n",
    "#Then, run this cell. There are many more functions you can set here, including which netowkr to use!\r\n",
    "#check the docstring for full options you ctan do!\r\n",
    "deeplabcut.create_training_dataset(path_config_file, net_type='resnet_50', augmenter_type='imgaug')"
   ],
   "outputs": [],
   "metadata": {
    "id": "eMeUwgxPoEJP",
    "scrolled": true
   }
  },
  {
   "cell_type": "markdown",
   "source": [
    "## Start training:\n",
    "This function trains the network for a specific shuffle of the training dataset. "
   ],
   "metadata": {
    "id": "c4FczXGDoEJU"
   }
  },
  {
   "cell_type": "code",
   "execution_count": null,
   "source": [
    "#let's also change the display and save_iters just in case Colab takes away the GPU... \n",
    "#if that happens, you can reload from a saved point. Typically, you want to train to 200,000 + iterations.\n",
    "#more info and there are more things you can set: https://github.com/AlexEMG/DeepLabCut/blob/master/docs/functionDetails.md#g-train-the-network\n",
    "\n",
    "deeplabcut.train_network(path_config_file, shuffle=1, displayiters=10,saveiters=500)\n",
    "\n",
    "#this will run until you stop it (CTRL+C), or hit \"STOP\" icon, or when it hits the end (default, 1.03M iterations). \n",
    "#Whichever you chose, you will see what looks like an error message, but it's not an error - don't worry...."
   ],
   "outputs": [],
   "metadata": {
    "id": "_pOvDq_2oEJW"
   }
  },
  {
   "cell_type": "markdown",
   "source": [
    "**When you hit \"STOP\" you will get a KeyInterrupt \"error\"! No worries! :)**"
   ],
   "metadata": {
    "id": "RiDwIVf5-3H_"
   }
  },
  {
   "cell_type": "markdown",
   "source": [
    "## Start evaluating:\n",
    "This funtion evaluates a trained model for a specific shuffle/shuffles at a particular state or all the states on the data set (images)\n",
    "and stores the results as .csv file in a subdirectory under **evaluation-results**"
   ],
   "metadata": {
    "id": "xZygsb2DoEJc"
   }
  },
  {
   "cell_type": "code",
   "execution_count": null,
   "source": [
    "%matplotlib notebook\r\n",
    "deeplabcut.evaluate_network(path_config_file,plotting=True)\r\n",
    "\r\n",
    "# Here you want to see a low pixel error! Of course, it can only be as good as the labeler, \r\n",
    "#so be sure your labels are good! (And you have trained enough ;)"
   ],
   "outputs": [],
   "metadata": {
    "id": "nv4zlbrnoEJg"
   }
  },
  {
   "cell_type": "markdown",
   "source": [
    "## There is an optional refinement step you can do outside of Colab:\n",
    "- if your pixel errors are not low enough, please check out the protocol guide on how to refine your network!\n",
    "- You will need to adjust the labels in the GUI. We recommend coming back to train and analyze videos... \n",
    "- Please see the repo and protocol instructions on how to refine your data!"
   ],
   "metadata": {
    "id": "BaLBl3TQtrfB"
   }
  },
  {
   "cell_type": "markdown",
   "source": [
    "## Start Analyzing videos: \n",
    "This function analyzes the new video. The user can choose the best model from the evaluation results and specify the correct snapshot index for the variable **snapshotindex** in the **config.yaml** file. Otherwise, by default the most recent snapshot is used to analyse the video.\n",
    "\n",
    "The results are stored in hd5 file in the same directory where the video resides. "
   ],
   "metadata": {
    "id": "OVFLSKKfoEJk"
   }
  },
  {
   "cell_type": "code",
   "execution_count": null,
   "source": [
    "deeplabcut.analyze_videos(path_config_file,videofile_path, videotype=VideoType, save_as_csv=True)"
   ],
   "outputs": [],
   "metadata": {
    "id": "Y_LZiS_0oEJl"
   }
  },
  {
   "cell_type": "markdown",
   "source": [
    "## Filter data (RECOMMENDED!): \r\n",
    "You can also filter the predictions with a median filter (default) or with a SARIMAX model (filterype='median'), if you wish. This creates new .h5 and csv files with the ending _filtered that you can use in create_labeled_data and/or plot trajectories.\r\n",
    "Note that there are more parameters that you can modify and pass."
   ],
   "metadata": {
    "id": "OVFLSKKfoEJk"
   }
  },
  {
   "cell_type": "code",
   "execution_count": null,
   "source": [
    "deeplabcut.filterpredictions(config_path, videofile_path, filterype='arima',save_as_csv=True)"
   ],
   "outputs": [],
   "metadata": {}
  },
  {
   "cell_type": "markdown",
   "source": [
    "## Plot the trajectories of the analyzed videos:\n",
    "This function plots the trajectories of all the body parts across the entire video. Each body part is identified by a unique color."
   ],
   "metadata": {
    "id": "8GTiuJESoEKH"
   }
  },
  {
   "cell_type": "code",
   "execution_count": null,
   "source": [
    "deeplabcut.plot_trajectories(path_config_file,videofile_path, videotype=VideoType)"
   ],
   "outputs": [],
   "metadata": {
    "id": "gX21zZbXoEKJ"
   }
  },
  {
   "cell_type": "markdown",
   "source": [
    "Now you can look at the plot-poses file and check the \"plot-likelihood.png\" might want to change the \"p-cutoff\" in the config.yaml file so that you have only high confidnece points plotted in the video. i.e. ~0.8 or 0.9. The current default is 0.4. "
   ],
   "metadata": {
    "id": "pqaCw15v8EmB"
   }
  },
  {
   "cell_type": "markdown",
   "source": [
    "## Create labeled video:\n",
    "This funtion is for visualiztion purpose and can be used to create a video in .mp4 format with labels predicted by the network. This video is saved in the same directory where the original video resides. "
   ],
   "metadata": {
    "id": "pCrUvQIvoEKD"
   }
  },
  {
   "cell_type": "code",
   "execution_count": null,
   "source": [
    "deeplabcut.create_labeled_video(path_config_file,videofile_path, videotype=VideoType)"
   ],
   "outputs": [],
   "metadata": {
    "id": "6aDF7Q7KoEKE"
   }
  }
 ],
 "metadata": {
  "accelerator": "GPU",
  "colab": {
   "collapsed_sections": [],
   "name": "Copy of latest_Colab_TrainNetwork_VideoAnalysis.ipynb",
   "provenance": [],
   "toc_visible": true
  },
  "kernelspec": {
   "display_name": "Python 3",
   "language": "python",
   "name": "python3"
  },
  "language_info": {
   "codemirror_mode": {
    "name": "ipython",
    "version": 3
   },
   "file_extension": ".py",
   "mimetype": "text/x-python",
   "name": "python",
   "nbconvert_exporter": "python",
   "pygments_lexer": "ipython3",
   "version": "3.6.8"
  }
 },
 "nbformat": 4,
 "nbformat_minor": 1
}